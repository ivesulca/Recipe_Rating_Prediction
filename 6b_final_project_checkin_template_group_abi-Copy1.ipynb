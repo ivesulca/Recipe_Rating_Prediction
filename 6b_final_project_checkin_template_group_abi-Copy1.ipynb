{
 "cells": [
  {
   "cell_type": "markdown",
   "metadata": {
    "toc": true
   },
   "source": [
    "<h1>Table of Contents<span class=\"tocSkip\"></span></h1>\n",
    "<div class=\"toc\"><ul class=\"toc-item\"><li><span><a href=\"#Final-Project-Check-in\" data-toc-modified-id=\"Final-Project-Check-in-1\">Final Project Check-in</a></span></li><li><span><a href=\"#Group-Name\" data-toc-modified-id=\"Group-Name-2\">Group Name</a></span></li><li><span><a href=\"#Student-Names\" data-toc-modified-id=\"Student-Names-3\">Student Names</a></span></li><li><span><a href=\"#Load-Data\" data-toc-modified-id=\"Load-Data-4\">Load Data</a></span></li><li><span><a href=\"#Fit-scikit-learn-model\" data-toc-modified-id=\"Fit-scikit-learn-model-5\">Fit scikit-learn model</a></span></li><li><span><a href=\"#Evaluation-Metric\" data-toc-modified-id=\"Evaluation-Metric-6\">Evaluation Metric</a></span></li></ul></div>"
   ]
  },
  {
   "cell_type": "markdown",
   "metadata": {},
   "source": [
    "Final Project Check-in\n",
    "------"
   ]
  },
  {
   "cell_type": "markdown",
   "metadata": {},
   "source": [
    "Group Name\n",
    "-----"
   ]
  },
  {
   "cell_type": "markdown",
   "metadata": {},
   "source": [
    "The Grace Hoppers "
   ]
  },
  {
   "cell_type": "markdown",
   "metadata": {},
   "source": [
    "Student Names\n",
    "----"
   ]
  },
  {
   "cell_type": "markdown",
   "metadata": {},
   "source": [
    "1. Akansha Shrivastava\n",
    "2. Ivette Sulca\n",
    "3. Bing Wang"
   ]
  },
  {
   "cell_type": "markdown",
   "metadata": {},
   "source": [
    "Load Data\n",
    "-----"
   ]
  },
  {
   "cell_type": "code",
   "execution_count": 118,
   "metadata": {},
   "outputs": [],
   "source": [
    "from collections import Counter\n",
    "import imblearn\n",
    "import numpy as np\n",
    "import pandas as pd\n",
    "from sklearn.ensemble import RandomForestClassifier\n",
    "import imblearn\n",
    "from sklearn.impute import SimpleImputer\n",
    "from sklearn.linear_model import LogisticRegression\n",
    "from sklearn.metrics import classification_report, confusion_matrix, f1_score, recall_score \n",
    "from sklearn.metrics import precision_score, roc_auc_score, roc_curve\n",
    "from sklearn.model_selection import train_test_split\n",
    "from sklearn.neighbors import KNeighborsClassifier\n",
    "from sklearn.naive_bayes import GaussianNB\n",
    "from sklearn.pipeline import Pipeline\n",
    "from sklearn.preprocessing import StandardScaler\n",
    "from sklearn.svm import SVC\n",
    "import geonamescache  #sudo pip install geonamescache\n",
    "from sklearn.model_selection import RandomizedSearchCV"
   ]
  },
  {
   "cell_type": "code",
   "execution_count": 119,
   "metadata": {},
   "outputs": [],
   "source": [
    "data_pd = pd.read_csv('../../data/epi_r.csv')\n",
    "data_json = pd.read_json('../../data/full_format_recipes.json',)\n",
    "#data_pd = pd.read_csv('data/epi_r.csv')\n",
    "#data_json = pd.read_json('data/full_format_recipes.json',)"
   ]
  },
  {
   "cell_type": "code",
   "execution_count": 120,
   "metadata": {},
   "outputs": [],
   "source": [
    "# Deleting null predictive variables from the dataset\n",
    "data_pd = data_pd.loc[(data_pd.rating>0) & (~data_pd.rating.isna())]\n",
    "\n",
    "# Deleting drinks\n",
    "data_pd = data_pd.loc[(data_pd.drink==0) & (data_pd.drinks==0) & (data_pd.cocktail==0)]\n",
    "\n",
    "# Deleting repeated titles\n",
    "data_pd.drop_duplicates(subset=['title'], inplace=True)  "
   ]
  },
  {
   "cell_type": "code",
   "execution_count": 121,
   "metadata": {},
   "outputs": [],
   "source": [
    "# Remove target, \"rating\", from data_pd\n",
    "y = data_pd.iloc[:,1]\n",
    "data_pd = pd.concat([data_pd.iloc[:,0], data_pd.iloc[:,2:]], axis=1)"
   ]
  },
  {
   "cell_type": "code",
   "execution_count": 122,
   "metadata": {},
   "outputs": [],
   "source": [
    "# Create feature: holidays: Dummy for world holiday \n",
    "# (a celebratory day attached to date in calendar-- birthday, graduation, anniversary, etc. not included)\n",
    "holidays = [\"bastille day\", \"christmas\", \"christmas eve\", \"cinco de mayo\", \"columbus\", \n",
    " \"diwali\", \"easter\", \"father's day\", \"fourth of july\", \"friendsgiving\", \"halloween\",\n",
    " \"hanukkah\", \"kwanzaa\", \"labor day\", \"lunar new year\", \"mother's day\", \"new year's day\",\n",
    " \"new year's eve\", \"oktoberfest\", \"passover\", \"persian new year\", \"purim\", \"ramadan\", \n",
    " \"rosh hashanah/yom kippur\", \"st. patrick's day\", \"sukkot\", \"thanksgiving\", \n",
    " \"valentine's day\"]\n",
    "\n",
    "data_pd[\"holiday\"] = np.where(data_pd[holidays].sum(axis=1)>0, 1, 0)"
   ]
  },
  {
   "cell_type": "code",
   "execution_count": 123,
   "metadata": {},
   "outputs": [],
   "source": [
    "#FAT: In grams but it can mislead depending of the number of portions (Paella for example)\n",
    "\n",
    "#Delete bigger portions(Paella) and outliers\n",
    "y = y.loc[((data_pd.fat>=0) & (data_pd.fat<=200)) | (data_pd.fat.isna())]\n",
    "data_pd = data_pd.loc[((data_pd.fat>=0) & (data_pd.fat<=200)) | (data_pd.fat.isna())]\n",
    "\n",
    "#Median imputer\n",
    "imp = SimpleImputer(missing_values=np.nan, strategy='median')\n",
    "fat_clean = imp.fit_transform(data_pd.fat.values.reshape(-1,1))\n",
    "fat_clean = pd.DataFrame(data=fat_clean, columns=['fat_clean'])\n",
    "data_pd['fat'] = fat_clean.fat_clean.values"
   ]
  },
  {
   "cell_type": "code",
   "execution_count": 124,
   "metadata": {},
   "outputs": [],
   "source": [
    "#PROTEIN CLEANING\n",
    "\n",
    "#Again, considering values lower than 200: deleting 62 rows...\n",
    "y = y.loc[((data_pd.protein>=0) & (data_pd.protein<=200)) | (data_pd.protein.isna())]\n",
    "data_pd = data_pd.loc[((data_pd.protein>=0) & (data_pd.protein<=200)) | (data_pd.protein.isna())]\n",
    "\n",
    "#Median imputer\n",
    "imp = SimpleImputer(missing_values=np.nan, strategy='median')\n",
    "protein_clean = imp.fit_transform(data_pd.protein.values.reshape(-1,1))\n",
    "protein_clean = pd.DataFrame(data=protein_clean ,columns=['protein_clean'])\n",
    "data_pd['protein']=protein_clean.protein_clean.values\n"
   ]
  },
  {
   "cell_type": "code",
   "execution_count": 125,
   "metadata": {},
   "outputs": [],
   "source": [
    "# SODIUM\n",
    "\n",
    "#Unit: miligrams\n",
    "#Very different values, so we will impute only:\n",
    "\n",
    "imp = SimpleImputer(missing_values=np.nan, strategy='median')\n",
    "sodium_clean = imp.fit_transform(data_pd.sodium.values.reshape(-1,1))\n",
    "sodium_clean = pd.DataFrame(data=sodium_clean ,columns=['sodium_clean'])\n",
    "data_pd['sodium']=sodium_clean.sodium_clean.values"
   ]
  },
  {
   "cell_type": "code",
   "execution_count": 126,
   "metadata": {},
   "outputs": [],
   "source": [
    "# filtering columns related to \"healthy\"\n",
    "\n",
    "# selecting all the relevant columns\n",
    "\n",
    "selected = [\"fat free\", \"healthy\", \"low cal\", \"quick and healthy\", \n",
    "\"low carb\",\n",
    "\"low cholesterol\",\n",
    "\"low fat\",\n",
    "\"low sodium\",\n",
    "\"low sugar\",\n",
    "\"low/no sugar\"]"
   ]
  },
  {
   "cell_type": "code",
   "execution_count": 127,
   "metadata": {},
   "outputs": [],
   "source": [
    "# filtering rows which have \"selected\" columns as 1 -> healthy\n",
    "data_pd[\"allhealthy\"] = 0\n",
    "for col in selected:\n",
    "    data_pd.loc[data_pd[col] == 1, \"allhealthy\"] = 1"
   ]
  },
  {
   "cell_type": "code",
   "execution_count": 128,
   "metadata": {},
   "outputs": [],
   "source": [
    "# replacing missing values in calories by mean\n",
    "\n",
    "median = data_pd[\"calories\"].median()\n",
    "data_pd.loc[data_pd[\"calories\"].isna(), \"calories\"] = median"
   ]
  },
  {
   "cell_type": "code",
   "execution_count": 129,
   "metadata": {},
   "outputs": [],
   "source": [
    "# Adding complexity preparation from JSON file\n",
    "\n",
    "data_json.drop_duplicates(subset=['title'],inplace=True)  \n",
    "data_json['directions_n_characters']=data_json['directions'].astype(str).str.len()\n",
    "data_json['ingredients_quantity']=data_json['ingredients'].str.len()\n",
    "data_json['directions_n_steps']=data_json['directions'].astype(str).str.replace('[','').str.replace(']','').str.split(\"',\").apply(lambda x: len(x))\n",
    "data_json.loc[data_json.desc.isna(), \"desc_n_characters\"] = 0\n",
    "data_json.loc[data_json.desc.notna(), \"desc_n_characters\"] = data_json[\"desc\"].astype(str).str.len()\n",
    "\n",
    "data_json2=data_json[['title','directions_n_characters','ingredients_quantity',\n",
    "                      'directions_n_steps', 'desc_n_characters']]\n",
    "\n",
    "data_pd=pd.merge(data_pd, data_json2, on='title', how=\"left\")\n",
    "\n",
    "#Change by imputer\n",
    "#Median imputer\n",
    "imp = SimpleImputer(missing_values=np.nan, strategy='median')\n",
    "\n",
    "directions_n_characters = imp.fit_transform(data_pd.directions_n_characters.values.reshape(-1,1))\n",
    "directions_n_characters = pd.DataFrame(data=directions_n_characters ,columns=['directions_n_characters'])\n",
    "data_pd['directions_n_characters']=directions_n_characters.directions_n_characters.values\n",
    "\n",
    "\n",
    "ingredients_quantity = imp.fit_transform(data_pd.ingredients_quantity.values.reshape(-1,1))\n",
    "ingredients_quantity = pd.DataFrame(data=ingredients_quantity ,columns=['ingredients_quantity'])\n",
    "data_pd['ingredients_quantity']=ingredients_quantity.ingredients_quantity.values\n",
    "\n",
    "\n",
    "directions_n_steps = imp.fit_transform(data_pd.directions_n_steps.values.reshape(-1,1))\n",
    "directions_n_steps = pd.DataFrame(data=directions_n_steps ,columns=['directions_n_steps'])\n",
    "data_pd['directions_n_steps']=directions_n_steps.directions_n_steps.values\n",
    "\n",
    "\n",
    "desc_n_characters = imp.fit_transform(data_pd.desc_n_characters.values.reshape(-1,1))\n",
    "desc_n_characters = pd.DataFrame(data=desc_n_characters ,columns=['desc_n_characters'])\n",
    "data_pd['desc_n_characters']=desc_n_characters.desc_n_characters.values\n"
   ]
  },
  {
   "cell_type": "code",
   "execution_count": 130,
   "metadata": {},
   "outputs": [],
   "source": [
    "# Identifying locations:\n",
    "column_names=np.array(data_pd.columns)\n",
    "column_names=[c.strip().upper() for c in column_names]\n",
    "\n",
    "gc = geonamescache.GeonamesCache()\n",
    "countries = gc.get_countries_by_names()\n",
    "cities = gc.get_cities()\n",
    "states = gc.get_us_states()\n",
    "\n",
    "dict_countries=dict()\n",
    "for k,v in countries.items():\n",
    "    dict_countries[k.upper()]=[v['geonameid'],v['iso'],v['iso3']]\n",
    "\n",
    "dict_countries2=dict()\n",
    "for k,v in countries.items():\n",
    "    dict_countries2[v['iso'].upper()]=k.upper()\n",
    "\n",
    "dict_cities=dict()\n",
    "for k,v in cities.items():\n",
    "    dict_cities[v['name'].upper()]=[v['geonameid'],v['countrycode']]\n",
    "\n",
    "dict_states=dict()    \n",
    "for k,v in states.items():\n",
    "    dict_states[v['name'].upper()] = [v['geonameid'],v['code'], 'US' ]\n"
   ]
  },
  {
   "cell_type": "code",
   "execution_count": 131,
   "metadata": {},
   "outputs": [],
   "source": [
    "# Make dummy variable of if there is a location listed or not\n",
    "\n",
    "#1. Identifying countries, states and cities\n",
    "\n",
    "locs=[]\n",
    "for col in data_pd.columns:    \n",
    "    if col.upper() in dict_countries:\n",
    "        if col.upper() not in ['TURKEY']:\n",
    "#            data_pd.loc[data_pd[col]==1,'country_id'] = dict_countries[col.upper()][1]\n",
    "#            data_pd.loc[data_pd[col]==1,'country_name'] = col.upper()   \n",
    "            locs.append(col)\n",
    " \n",
    "\n",
    "    if col.upper() in dict_states:        \n",
    "#        data_pd.loc[data_pd[col]==1,'state_id'] = dict_states[col.upper()][1]\n",
    "#        data_pd.loc[data_pd[col]==1,'state_name'] = col.upper()   \n",
    "#        data_pd.loc[data_pd[col]==1,'country_id'] = 'US'\n",
    "#        data_pd.loc[data_pd[col]==1,'country_name'] = 'UNITED STATES' \n",
    "        locs.append(col)\n",
    " \n",
    "    if col.upper() in dict_cities:     \n",
    "        if col.upper() not in ['SPRING','ORANGE','WALNUT','LEEK','WEDDING','PLUM','TEQUILA','DATE','PAPAYA','MARSALA','SAKE','RYE','GOUDA','HOLIDAY']:\n",
    " #           data_pd.loc[data_pd[col]==1,'city_id'] = dict_cities[col.upper()][0]\n",
    " #           data_pd.loc[data_pd[col]==1,'city_name'] = col.upper()   \n",
    " #           data_pd.loc[data_pd[col]==1,'country_id'] = dict_cities[col.upper()][1]\n",
    " #           data_pd.loc[data_pd[col]==1,'country_name'] = dict_countries2[dict_cities[col.upper()][1]] \n",
    "            locs.append(col)"
   ]
  },
  {
   "cell_type": "code",
   "execution_count": 132,
   "metadata": {},
   "outputs": [],
   "source": [
    "data_pd[\"locations\"] = np.where(data_pd[locs].sum(axis=1)>0, 1, 0)\n",
    "data_pd.drop(locs, axis=1, inplace=True)"
   ]
  },
  {
   "cell_type": "code",
   "execution_count": 18,
   "metadata": {},
   "outputs": [],
   "source": [
    "# new_data=data_pd.drop(\"title\", axis=1)\n",
    "# new_data=new_data.sum()\n",
    "# new_data=new_data.reset_index()\n",
    "# new_data.columns=['feature','n_rows']\n",
    "# new_data.loc[new_data.n_rows<=3]"
   ]
  },
  {
   "cell_type": "markdown",
   "metadata": {},
   "source": [
    "Fit scikit-learn model\n",
    "----"
   ]
  },
  {
   "cell_type": "code",
   "execution_count": 133,
   "metadata": {},
   "outputs": [],
   "source": [
    "# Using the below features in the model:\n",
    "# X = data_pd[[\"calories\", \"protein\", \"fat\", \"sodium\", \"22-minute meals\",\n",
    "#              \"3-ingredient recipes\", \"holiday\", \"allhealthy\", \n",
    "#              \"directions_n_characters\", \"directions_n_steps\",\n",
    "#              \"ingredients_quantity\", \"desc_n_characters\", \"locations\"]]\n",
    "X = data_pd.drop(\"title\", axis=1)"
   ]
  },
  {
   "cell_type": "code",
   "execution_count": null,
   "metadata": {
    "scrolled": true
   },
   "outputs": [],
   "source": []
  },
  {
   "cell_type": "code",
   "execution_count": 134,
   "metadata": {},
   "outputs": [
    {
     "data": {
      "text/html": [
       "<div>\n",
       "<style scoped>\n",
       "    .dataframe tbody tr th:only-of-type {\n",
       "        vertical-align: middle;\n",
       "    }\n",
       "\n",
       "    .dataframe tbody tr th {\n",
       "        vertical-align: top;\n",
       "    }\n",
       "\n",
       "    .dataframe thead th {\n",
       "        text-align: right;\n",
       "    }\n",
       "</style>\n",
       "<table border=\"1\" class=\"dataframe\">\n",
       "  <thead>\n",
       "    <tr style=\"text-align: right;\">\n",
       "      <th></th>\n",
       "      <th>rating</th>\n",
       "    </tr>\n",
       "  </thead>\n",
       "  <tbody>\n",
       "    <tr>\n",
       "      <td>0</td>\n",
       "      <td>2.500</td>\n",
       "    </tr>\n",
       "    <tr>\n",
       "      <td>1</td>\n",
       "      <td>4.375</td>\n",
       "    </tr>\n",
       "    <tr>\n",
       "      <td>2</td>\n",
       "      <td>3.750</td>\n",
       "    </tr>\n",
       "    <tr>\n",
       "      <td>3</td>\n",
       "      <td>5.000</td>\n",
       "    </tr>\n",
       "    <tr>\n",
       "      <td>4</td>\n",
       "      <td>3.125</td>\n",
       "    </tr>\n",
       "    <tr>\n",
       "      <td>...</td>\n",
       "      <td>...</td>\n",
       "    </tr>\n",
       "    <tr>\n",
       "      <td>15432</td>\n",
       "      <td>3.750</td>\n",
       "    </tr>\n",
       "    <tr>\n",
       "      <td>15433</td>\n",
       "      <td>4.375</td>\n",
       "    </tr>\n",
       "    <tr>\n",
       "      <td>15434</td>\n",
       "      <td>4.375</td>\n",
       "    </tr>\n",
       "    <tr>\n",
       "      <td>15435</td>\n",
       "      <td>4.375</td>\n",
       "    </tr>\n",
       "    <tr>\n",
       "      <td>15436</td>\n",
       "      <td>4.375</td>\n",
       "    </tr>\n",
       "  </tbody>\n",
       "</table>\n",
       "<p>15437 rows × 1 columns</p>\n",
       "</div>"
      ],
      "text/plain": [
       "       rating\n",
       "0       2.500\n",
       "1       4.375\n",
       "2       3.750\n",
       "3       5.000\n",
       "4       3.125\n",
       "...       ...\n",
       "15432   3.750\n",
       "15433   4.375\n",
       "15434   4.375\n",
       "15435   4.375\n",
       "15436   4.375\n",
       "\n",
       "[15437 rows x 1 columns]"
      ]
     },
     "execution_count": 134,
     "metadata": {},
     "output_type": "execute_result"
    }
   ],
   "source": [
    "y.reset_index()[['rating']]"
   ]
  },
  {
   "cell_type": "code",
   "execution_count": 135,
   "metadata": {},
   "outputs": [
    {
     "data": {
      "text/html": [
       "<div>\n",
       "<style scoped>\n",
       "    .dataframe tbody tr th:only-of-type {\n",
       "        vertical-align: middle;\n",
       "    }\n",
       "\n",
       "    .dataframe tbody tr th {\n",
       "        vertical-align: top;\n",
       "    }\n",
       "\n",
       "    .dataframe thead th {\n",
       "        text-align: right;\n",
       "    }\n",
       "</style>\n",
       "<table border=\"1\" class=\"dataframe\">\n",
       "  <thead>\n",
       "    <tr style=\"text-align: right;\">\n",
       "      <th></th>\n",
       "      <th>rating</th>\n",
       "    </tr>\n",
       "  </thead>\n",
       "  <tbody>\n",
       "    <tr>\n",
       "      <td>0</td>\n",
       "      <td>2.500</td>\n",
       "    </tr>\n",
       "    <tr>\n",
       "      <td>1</td>\n",
       "      <td>4.375</td>\n",
       "    </tr>\n",
       "    <tr>\n",
       "      <td>2</td>\n",
       "      <td>3.750</td>\n",
       "    </tr>\n",
       "    <tr>\n",
       "      <td>3</td>\n",
       "      <td>5.000</td>\n",
       "    </tr>\n",
       "    <tr>\n",
       "      <td>4</td>\n",
       "      <td>3.125</td>\n",
       "    </tr>\n",
       "  </tbody>\n",
       "</table>\n",
       "</div>"
      ],
      "text/plain": [
       "   rating\n",
       "0   2.500\n",
       "1   4.375\n",
       "2   3.750\n",
       "3   5.000\n",
       "4   3.125"
      ]
     },
     "execution_count": 135,
     "metadata": {},
     "output_type": "execute_result"
    }
   ],
   "source": [
    "y_discrete = y.reset_index()[['rating']].copy()\n",
    "y_discrete.head()"
   ]
  },
  {
   "cell_type": "code",
   "execution_count": 136,
   "metadata": {},
   "outputs": [
    {
     "data": {
      "text/html": [
       "<div>\n",
       "<style scoped>\n",
       "    .dataframe tbody tr th:only-of-type {\n",
       "        vertical-align: middle;\n",
       "    }\n",
       "\n",
       "    .dataframe tbody tr th {\n",
       "        vertical-align: top;\n",
       "    }\n",
       "\n",
       "    .dataframe thead th {\n",
       "        text-align: right;\n",
       "    }\n",
       "</style>\n",
       "<table border=\"1\" class=\"dataframe\">\n",
       "  <thead>\n",
       "    <tr style=\"text-align: right;\">\n",
       "      <th></th>\n",
       "      <th>rating</th>\n",
       "      <th>new_rating</th>\n",
       "    </tr>\n",
       "  </thead>\n",
       "  <tbody>\n",
       "    <tr>\n",
       "      <td>0</td>\n",
       "      <td>2.500</td>\n",
       "      <td>0</td>\n",
       "    </tr>\n",
       "    <tr>\n",
       "      <td>1</td>\n",
       "      <td>4.375</td>\n",
       "      <td>1</td>\n",
       "    </tr>\n",
       "    <tr>\n",
       "      <td>2</td>\n",
       "      <td>3.750</td>\n",
       "      <td>1</td>\n",
       "    </tr>\n",
       "    <tr>\n",
       "      <td>3</td>\n",
       "      <td>5.000</td>\n",
       "      <td>1</td>\n",
       "    </tr>\n",
       "    <tr>\n",
       "      <td>4</td>\n",
       "      <td>3.125</td>\n",
       "      <td>0</td>\n",
       "    </tr>\n",
       "  </tbody>\n",
       "</table>\n",
       "</div>"
      ],
      "text/plain": [
       "   rating  new_rating\n",
       "0   2.500           0\n",
       "1   4.375           1\n",
       "2   3.750           1\n",
       "3   5.000           1\n",
       "4   3.125           0"
      ]
     },
     "execution_count": 136,
     "metadata": {},
     "output_type": "execute_result"
    }
   ],
   "source": [
    "y_discrete[\"new_rating\"] = 0\n",
    "y_discrete.loc[y_discrete.rating > 3.5, \"new_rating\"] = 1\n",
    "y_discrete.head()\n"
   ]
  },
  {
   "cell_type": "code",
   "execution_count": 137,
   "metadata": {},
   "outputs": [
    {
     "data": {
      "text/plain": [
       "1    13489\n",
       "0     1948\n",
       "Name: new_rating, dtype: int64"
      ]
     },
     "execution_count": 137,
     "metadata": {},
     "output_type": "execute_result"
    }
   ],
   "source": [
    "# y (rating) only appears as 6 different floats between 1 and 4: [1.25, 1.875, 2.5, 3.125, 3.75, 4.375, 5.0]\n",
    "\n",
    "# Convert floats to categorical variables corresponding to their ratings, 1 to 5, for classification\n",
    "# (Bins: 1 = [1, 2), 2 = [2, 3), etc.)\n",
    "\n",
    "\"\"\"y_discrete = pd.cut(y, bins=[1, 2, 3], labels=[1, 2], right=False)\n",
    "y_discrete.value_counts()\n",
    "y_discrete.shape\n",
    "print(y_discrete.head())\"\"\"\n",
    "y_discrete[\"new_rating\"].value_counts()\n"
   ]
  },
  {
   "cell_type": "code",
   "execution_count": 138,
   "metadata": {},
   "outputs": [],
   "source": [
    "y_discrete = y_discrete.drop(\"rating\", axis = 1)"
   ]
  },
  {
   "cell_type": "code",
   "execution_count": 139,
   "metadata": {},
   "outputs": [],
   "source": [
    "y_discrete.columns = [\"rating\"]"
   ]
  },
  {
   "cell_type": "code",
   "execution_count": 140,
   "metadata": {},
   "outputs": [
    {
     "data": {
      "text/html": [
       "<div>\n",
       "<style scoped>\n",
       "    .dataframe tbody tr th:only-of-type {\n",
       "        vertical-align: middle;\n",
       "    }\n",
       "\n",
       "    .dataframe tbody tr th {\n",
       "        vertical-align: top;\n",
       "    }\n",
       "\n",
       "    .dataframe thead th {\n",
       "        text-align: right;\n",
       "    }\n",
       "</style>\n",
       "<table border=\"1\" class=\"dataframe\">\n",
       "  <thead>\n",
       "    <tr style=\"text-align: right;\">\n",
       "      <th></th>\n",
       "      <th>rating</th>\n",
       "    </tr>\n",
       "  </thead>\n",
       "  <tbody>\n",
       "    <tr>\n",
       "      <td>0</td>\n",
       "      <td>0</td>\n",
       "    </tr>\n",
       "    <tr>\n",
       "      <td>1</td>\n",
       "      <td>1</td>\n",
       "    </tr>\n",
       "    <tr>\n",
       "      <td>2</td>\n",
       "      <td>1</td>\n",
       "    </tr>\n",
       "    <tr>\n",
       "      <td>3</td>\n",
       "      <td>1</td>\n",
       "    </tr>\n",
       "    <tr>\n",
       "      <td>4</td>\n",
       "      <td>0</td>\n",
       "    </tr>\n",
       "  </tbody>\n",
       "</table>\n",
       "</div>"
      ],
      "text/plain": [
       "   rating\n",
       "0       0\n",
       "1       1\n",
       "2       1\n",
       "3       1\n",
       "4       0"
      ]
     },
     "execution_count": 140,
     "metadata": {},
     "output_type": "execute_result"
    }
   ],
   "source": [
    "y_discrete.head()"
   ]
  },
  {
   "cell_type": "code",
   "execution_count": 19,
   "metadata": {},
   "outputs": [],
   "source": [
    "# # Convert y to discrete, without consolidating bins\n",
    "# # (Only 7 unique values of y: Directly convert to discrete variables using these values as labels)\n",
    "# y_discrete = pd.cut(y, bins=[1, 1.25, 1.875, 2.5, 3.125, 3.75, 4.375, 5.0], \n",
    "#                     labels=[1.25, 1.875, 2.5, 3.125, 3.75, 4.375, 5.0], right=True)\n",
    "# y_discrete = y_discrete.astype(\"int\")"
   ]
  },
  {
   "cell_type": "markdown",
   "metadata": {},
   "source": [
    "## Train-Validation-Test Split"
   ]
  },
  {
   "cell_type": "code",
   "execution_count": 141,
   "metadata": {},
   "outputs": [],
   "source": [
    "X_train, X_test, y_train, y_test = train_test_split(X, y_discrete, test_size=0.15, stratify=y_discrete)\n",
    "X_train, X_valid, y_train, y_valid = train_test_split(X_train, y_train, test_size=0.15, stratify=y_train)"
   ]
  },
  {
   "cell_type": "markdown",
   "metadata": {},
   "source": [
    "## Oversampling"
   ]
  },
  {
   "cell_type": "code",
   "execution_count": 77,
   "metadata": {},
   "outputs": [],
   "source": []
  },
  {
   "cell_type": "code",
   "execution_count": 142,
   "metadata": {},
   "outputs": [],
   "source": [
    "# Oversampling on lower rating reviews to rebalance classes\n",
    "sm = imblearn.over_sampling.SMOTE()"
   ]
  },
  {
   "cell_type": "code",
   "execution_count": 143,
   "metadata": {},
   "outputs": [
    {
     "name": "stderr",
     "output_type": "stream",
     "text": [
      "/Users/ivettesulca/anaconda3/envs/ml/lib/python3.7/site-packages/sklearn/utils/validation.py:724: DataConversionWarning: A column-vector y was passed when a 1d array was expected. Please change the shape of y to (n_samples, ), for example using ravel().\n",
      "  y = column_or_1d(y, warn=True)\n"
     ]
    }
   ],
   "source": [
    "X_train_sm, y_train_sm = sm.fit_sample(X_train, y_train)"
   ]
  },
  {
   "cell_type": "code",
   "execution_count": 144,
   "metadata": {},
   "outputs": [],
   "source": [
    "X_train = pd.DataFrame(X_train_sm, columns=X_train.columns)\n",
    "y_train = pd.Series(y_train_sm)"
   ]
  },
  {
   "cell_type": "code",
   "execution_count": 146,
   "metadata": {},
   "outputs": [
    {
     "name": "stdout",
     "output_type": "stream",
     "text": [
      "1    9745\n",
      "0    9745\n",
      "dtype: int64\n",
      "19490\n"
     ]
    }
   ],
   "source": [
    "# Classes in y_train have been balanced\n",
    "print(y_train.value_counts())\n",
    "print(len(y_train))"
   ]
  },
  {
   "cell_type": "markdown",
   "metadata": {},
   "source": [
    "## Creation of pipelines"
   ]
  },
  {
   "cell_type": "code",
   "execution_count": 97,
   "metadata": {},
   "outputs": [
    {
     "name": "stderr",
     "output_type": "stream",
     "text": [
      "/Users/ivettesulca/anaconda3/envs/ml/lib/python3.7/site-packages/sklearn/ensemble/forest.py:245: FutureWarning: The default value of n_estimators will change from 10 in version 0.20 to 100 in 0.22.\n",
      "  \"10 in version 0.20 to 100 in 0.22.\", FutureWarning)\n",
      "/Users/ivettesulca/anaconda3/envs/ml/lib/python3.7/site-packages/sklearn/ensemble/forest.py:460: UserWarning: Some inputs do not have OOB scores. This probably means too few trees were used to compute any reliable oob estimates.\n",
      "  warn(\"Some inputs do not have OOB scores. \"\n",
      "/Users/ivettesulca/anaconda3/envs/ml/lib/python3.7/site-packages/sklearn/ensemble/forest.py:465: RuntimeWarning: divide by zero encountered in true_divide\n",
      "  predictions[k].sum(axis=1)[:, np.newaxis])\n",
      "/Users/ivettesulca/anaconda3/envs/ml/lib/python3.7/site-packages/sklearn/ensemble/forest.py:465: RuntimeWarning: invalid value encountered in true_divide\n",
      "  predictions[k].sum(axis=1)[:, np.newaxis])\n"
     ]
    },
    {
     "data": {
      "text/plain": [
       "RandomForestClassifier(bootstrap=True, class_weight=None, criterion='gini',\n",
       "                       max_depth=None, max_features='auto', max_leaf_nodes=None,\n",
       "                       min_impurity_decrease=0.0, min_impurity_split=None,\n",
       "                       min_samples_leaf=1, min_samples_split=2,\n",
       "                       min_weight_fraction_leaf=0.0, n_estimators=10,\n",
       "                       n_jobs=None, oob_score=True, random_state=42, verbose=0,\n",
       "                       warm_start=False)"
      ]
     },
     "execution_count": 97,
     "metadata": {},
     "output_type": "execute_result"
    }
   ],
   "source": [
    "rfc = RandomForestClassifier(random_state=42, oob_score=True)\n",
    "rfc.fit(X_train, y_train)"
   ]
  },
  {
   "cell_type": "code",
   "execution_count": 98,
   "metadata": {},
   "outputs": [
    {
     "data": {
      "text/plain": [
       "0.8820776573070152"
      ]
     },
     "execution_count": 98,
     "metadata": {},
     "output_type": "execute_result"
    }
   ],
   "source": []
  },
  {
   "cell_type": "code",
   "execution_count": 147,
   "metadata": {},
   "outputs": [],
   "source": [
    "\n",
    "#Creating pipelines\n",
    "pipe_lr = Pipeline([('scl', StandardScaler()),\n",
    "                ('clf', LogisticRegression(penalty='l1', solver='liblinear',random_state=42))])\n",
    "\n",
    "pipe_kn = Pipeline([('scl', StandardScaler()),\n",
    "                ('clf', KNeighborsClassifier())])\n",
    "\n",
    "pipe_nb = Pipeline([\n",
    "                ('clf', GaussianNB())])\n",
    "\n",
    "pipe_svc = Pipeline([('scl', StandardScaler()),\n",
    "                ('clf', SVC(random_state=42))])\n",
    "\n",
    "pipe_rc = Pipeline([\n",
    "                ('clf', RandomForestClassifier(random_state=42))])\n",
    "\n",
    "pipelines=[pipe_lr,pipe_kn,pipe_nb,pipe_svc,pipe_rc]\n",
    "\n"
   ]
  },
  {
   "cell_type": "code",
   "execution_count": 148,
   "metadata": {},
   "outputs": [
    {
     "name": "stderr",
     "output_type": "stream",
     "text": [
      "/Users/ivettesulca/anaconda3/envs/ml/lib/python3.7/site-packages/sklearn/svm/base.py:193: FutureWarning: The default value of gamma will change from 'auto' to 'scale' in version 0.22 to account better for unscaled features. Set gamma explicitly to 'auto' or 'scale' to avoid this warning.\n",
      "  \"avoid this warning.\", FutureWarning)\n",
      "/Users/ivettesulca/anaconda3/envs/ml/lib/python3.7/site-packages/sklearn/ensemble/forest.py:245: FutureWarning: The default value of n_estimators will change from 10 in version 0.20 to 100 in 0.22.\n",
      "  \"10 in version 0.20 to 100 in 0.22.\", FutureWarning)\n"
     ]
    },
    {
     "name": "stdout",
     "output_type": "stream",
     "text": [
      "--- 250.6887149810791 seconds ---\n"
     ]
    }
   ],
   "source": [
    "# Training the pipelines\n",
    "import time\n",
    "start_time = time.time()\n",
    "\n",
    "for pipe in pipelines:\n",
    "    pipe.fit(X_train, y_train)\n",
    "\n",
    "print(\"--- %s seconds ---\" % (time.time() - start_time))    "
   ]
  },
  {
   "cell_type": "code",
   "execution_count": null,
   "metadata": {},
   "outputs": [],
   "source": []
  },
  {
   "cell_type": "code",
   "execution_count": 149,
   "metadata": {},
   "outputs": [
    {
     "name": "stdout",
     "output_type": "stream",
     "text": [
      "LogisticRegression\n",
      "              precision    recall  f1-score   support\n",
      "\n",
      "           0       0.17      0.49      0.25       249\n",
      "           1       0.90      0.64      0.75      1720\n",
      "\n",
      "    accuracy                           0.62      1969\n",
      "   macro avg       0.53      0.57      0.50      1969\n",
      "weighted avg       0.80      0.62      0.69      1969\n",
      "\n",
      "KNeighborsClassifier\n",
      "              precision    recall  f1-score   support\n",
      "\n",
      "           0       0.15      0.46      0.22       249\n",
      "           1       0.89      0.61      0.72      1720\n",
      "\n",
      "    accuracy                           0.59      1969\n",
      "   macro avg       0.52      0.54      0.47      1969\n",
      "weighted avg       0.79      0.59      0.66      1969\n",
      "\n",
      "GaussianNB\n",
      "              precision    recall  f1-score   support\n",
      "\n",
      "           0       0.15      0.74      0.25       249\n",
      "           1       0.91      0.38      0.54      1720\n",
      "\n",
      "    accuracy                           0.43      1969\n",
      "   macro avg       0.53      0.56      0.39      1969\n",
      "weighted avg       0.81      0.43      0.50      1969\n",
      "\n",
      "SVC\n",
      "              precision    recall  f1-score   support\n",
      "\n",
      "           0       0.23      0.17      0.20       249\n",
      "           1       0.88      0.92      0.90      1720\n",
      "\n",
      "    accuracy                           0.82      1969\n",
      "   macro avg       0.56      0.54      0.55      1969\n",
      "weighted avg       0.80      0.82      0.81      1969\n",
      "\n",
      "RandomForestClassifier\n",
      "              precision    recall  f1-score   support\n",
      "\n",
      "           0       0.24      0.04      0.07       249\n",
      "           1       0.88      0.98      0.93      1720\n",
      "\n",
      "    accuracy                           0.86      1969\n",
      "   macro avg       0.56      0.51      0.50      1969\n",
      "weighted avg       0.80      0.86      0.82      1969\n",
      "\n",
      "[['LogisticRegression', 0.6231589639410868, 0.6852656363389403, 0.49805474474623046], ['KNeighborsClassifier', 0.5931945149822245, 0.6610289291380087, 0.4731109946311187], ['GaussianNB', 0.4296597257491112, 0.5038589854770145, 0.39394245873003997], ['SVC', 0.824276282376841, 0.8120849864043802, 0.548358569117764], ['RandomForestClassifier', 0.8613509395632301, 0.8175092547758327, 0.49981901673513635]]\n"
     ]
    }
   ],
   "source": [
    "# Scores on validation set\n",
    "from sklearn.metrics import classification_report\n",
    "from sklearn.metrics import f1_score\n",
    "from sklearn.metrics import accuracy_score, f1_score, recall_score, precision_score, roc_auc_score, roc_curve\n",
    "\n",
    "list_scores = []\n",
    "for pipe in pipelines:\n",
    "    y_pred = pipe.predict(X_valid)\n",
    "    \n",
    "    model_name=pipe.get_params()['clf'].__class__.__name__\n",
    "\n",
    "    accuracy_s = accuracy_score(y_valid, y_pred)\n",
    "    f1_score_w= f1_score(y_valid, y_pred, average='weighted')\n",
    "    f1_score_m= f1_score(y_valid, y_pred, average='macro')    \n",
    "\n",
    "    list_scores.append([model_name,accuracy_s,f1_score_w,f1_score_m])\n",
    "    \n",
    "    print(model_name)\n",
    "    print(classification_report(y_valid, y_pred))\n",
    "\n",
    "print(list_scores)"
   ]
  },
  {
   "cell_type": "code",
   "execution_count": 156,
   "metadata": {},
   "outputs": [
    {
     "name": "stdout",
     "output_type": "stream",
     "text": [
      "LogisticRegression\n",
      "              precision    recall  f1-score   support\n",
      "\n",
      "           0       0.69      0.73      0.71      9745\n",
      "           1       0.71      0.67      0.69      9745\n",
      "\n",
      "    accuracy                           0.70     19490\n",
      "   macro avg       0.70      0.70      0.70     19490\n",
      "weighted avg       0.70      0.70      0.70     19490\n",
      "\n",
      "KNeighborsClassifier\n",
      "              precision    recall  f1-score   support\n",
      "\n",
      "           0       0.80      1.00      0.89      9745\n",
      "           1       0.99      0.75      0.85      9745\n",
      "\n",
      "    accuracy                           0.87     19490\n",
      "   macro avg       0.90      0.87      0.87     19490\n",
      "weighted avg       0.90      0.87      0.87     19490\n",
      "\n",
      "GaussianNB\n",
      "              precision    recall  f1-score   support\n",
      "\n",
      "           0       0.61      0.92      0.74      9745\n",
      "           1       0.84      0.41      0.55      9745\n",
      "\n",
      "    accuracy                           0.67     19490\n",
      "   macro avg       0.73      0.67      0.64     19490\n",
      "weighted avg       0.73      0.67      0.64     19490\n",
      "\n",
      "SVC\n",
      "              precision    recall  f1-score   support\n",
      "\n",
      "           0       0.95      0.96      0.96      9745\n",
      "           1       0.96      0.95      0.96      9745\n",
      "\n",
      "    accuracy                           0.96     19490\n",
      "   macro avg       0.96      0.96      0.96     19490\n",
      "weighted avg       0.96      0.96      0.96     19490\n",
      "\n",
      "RandomForestClassifier\n",
      "              precision    recall  f1-score   support\n",
      "\n",
      "           0       1.00      0.99      1.00      9745\n",
      "           1       0.99      1.00      1.00      9745\n",
      "\n",
      "    accuracy                           1.00     19490\n",
      "   macro avg       1.00      1.00      1.00     19490\n",
      "weighted avg       1.00      1.00      1.00     19490\n",
      "\n",
      "[['LogisticRegression', 0.697075423293997, 0.6967685677897162, 0.6967685677897162], ['KNeighborsClassifier', 0.8722934838378655, 0.8703088467885489, 0.870308846788549], ['GaussianNB', 0.6668547973319651, 0.643132575631263, 0.6431325756312631], ['SVC', 0.9565931246793228, 0.9565901255521571, 0.9565901255521572], ['RandomForestClassifier', 0.9972806567470498, 0.9972806409331642, 0.997280640933164]]\n"
     ]
    }
   ],
   "source": [
    "# Scores on training set\n",
    "from sklearn.metrics import classification_report\n",
    "from sklearn.metrics import f1_score\n",
    "from sklearn.metrics import accuracy_score, f1_score, recall_score, precision_score, roc_auc_score, roc_curve\n",
    "\n",
    "list_scores = []\n",
    "for pipe in pipelines:\n",
    "    y_pred = pipe.predict(X_train)\n",
    "    \n",
    "    model_name=pipe.get_params()['clf'].__class__.__name__\n",
    "\n",
    "    accuracy_s = accuracy_score(y_train, y_pred)\n",
    "    f1_score_w= f1_score(y_train, y_pred, average='weighted')\n",
    "    f1_score_m= f1_score(y_train, y_pred, average='macro')    \n",
    "\n",
    "    list_scores.append([model_name,accuracy_s,f1_score_w,f1_score_m])\n",
    "    \n",
    "    print(model_name)\n",
    "    print(classification_report(y_train, y_pred))\n",
    "\n",
    "print(list_scores)"
   ]
  },
  {
   "cell_type": "code",
   "execution_count": 150,
   "metadata": {},
   "outputs": [
    {
     "data": {
      "image/png": "[encoded data removed]",
      "text/plain": [
       "<Figure size 1152x576 with 1 Axes>"
      ]
     },
     "metadata": {
      "needs_background": "light"
     },
     "output_type": "display_data"
    }
   ],
   "source": [
    "#Benchmarking of models:\n",
    "\n",
    "models_bench = pd.DataFrame(list_scores, columns = ['Model', 'Accuracy', 'F1_weighted', 'F1_macro'])\n",
    "models_bench.set_index([\"Model\"], inplace=True)\n",
    "\n",
    "ax = models_bench.plot(kind='bar', figsize=(16,8),color=['dodgerblue', 'grey','lightblue'], title='Models fitting bechmarking', rot=70)\n",
    "ax.set_alpha(0.8)\n",
    "#ax.axis('off')\n",
    "ax.spines['top'].set_visible(False)\n",
    "ax.spines['right'].set_visible(False)\n",
    "#ax.spines['bottom'].set_visible(False)\n",
    "ax.spines['left'].set_visible(False)\n",
    "ax.axes.get_yaxis().set_visible(False)\n",
    "\n",
    "#Writing labels\n",
    "for i in ax.patches:\n",
    "    ax.text(i.get_x()+0.03, i.get_height()+0.005, str(round((i.get_height()), 2)), fontsize=9, color='dimgrey')"
   ]
  },
  {
   "cell_type": "markdown",
   "metadata": {},
   "source": [
    "## Tunning hyperparameters (RandomSearchCV)"
   ]
  },
  {
   "cell_type": "markdown",
   "metadata": {},
   "source": [
    "Two potential models for the data are Random Forest classifier and Support Vector Classification"
   ]
  },
  {
   "cell_type": "markdown",
   "metadata": {},
   "source": [
    "### a) Random Search for Random Forest"
   ]
  },
  {
   "cell_type": "code",
   "execution_count": 181,
   "metadata": {},
   "outputs": [],
   "source": [
    "# Limit the number of folds and samples\n",
    "\n",
    "cv=5\n",
    "n_iter=5\n",
    "\n",
    "# Defining estimators and search space\n",
    "#n_estimators = [int(x) for x in np.linspace(start = 80, stop = 100, num = 5)]\n",
    "n_estimators = [10, 50 , 100 , 200, 500]\n",
    "#max_depth = [None]\n",
    "#min_samples_leaf = [int(x) for x in np.linspace(start=200, stop=400, num = 5)]\n",
    "min_samples_leaf = [50, 100 , 200]\n",
    "max_features = [\"auto\"]\n",
    "#max_leaf_nodes=[None]\n",
    "\n",
    "bootstrap = [True] #to generalize better\n",
    "oob_score = [True]\n",
    "\n",
    "hyperparameters = dict(n_estimators=n_estimators,\n",
    "                       #max_depth=max_depth,                           \n",
    "                       min_samples_leaf=min_samples_leaf,                            \n",
    "                       bootstrap=bootstrap,\n",
    "                       oob_score=[True]\n",
    "                       )\n",
    "\n",
    "clf_random_cv = RandomizedSearchCV(RandomForestClassifier(random_state=42), \n",
    "                          hyperparameters, \n",
    "                          cv=cv, \n",
    "                          n_iter=n_iter,       \n",
    "                          scoring='f1_weighted')\n"
   ]
  },
  {
   "cell_type": "code",
   "execution_count": 176,
   "metadata": {},
   "outputs": [
    {
     "name": "stderr",
     "output_type": "stream",
     "text": [
      "/Users/ivettesulca/anaconda3/envs/ml/lib/python3.7/site-packages/sklearn/ensemble/forest.py:460: UserWarning: Some inputs do not have OOB scores. This probably means too few trees were used to compute any reliable oob estimates.\n",
      "  warn(\"Some inputs do not have OOB scores. \"\n",
      "/Users/ivettesulca/anaconda3/envs/ml/lib/python3.7/site-packages/sklearn/ensemble/forest.py:465: RuntimeWarning: divide by zero encountered in true_divide\n",
      "  predictions[k].sum(axis=1)[:, np.newaxis])\n",
      "/Users/ivettesulca/anaconda3/envs/ml/lib/python3.7/site-packages/sklearn/ensemble/forest.py:465: RuntimeWarning: invalid value encountered in true_divide\n",
      "  predictions[k].sum(axis=1)[:, np.newaxis])\n"
     ]
    },
    {
     "name": "stdout",
     "output_type": "stream",
     "text": [
      "1\n",
      "0.88882505027291\n"
     ]
    },
    {
     "name": "stderr",
     "output_type": "stream",
     "text": [
      "/Users/ivettesulca/anaconda3/envs/ml/lib/python3.7/site-packages/sklearn/ensemble/forest.py:460: UserWarning: Some inputs do not have OOB scores. This probably means too few trees were used to compute any reliable oob estimates.\n",
      "  warn(\"Some inputs do not have OOB scores. \"\n",
      "/Users/ivettesulca/anaconda3/envs/ml/lib/python3.7/site-packages/sklearn/ensemble/forest.py:465: RuntimeWarning: divide by zero encountered in true_divide\n",
      "  predictions[k].sum(axis=1)[:, np.newaxis])\n",
      "/Users/ivettesulca/anaconda3/envs/ml/lib/python3.7/site-packages/sklearn/ensemble/forest.py:465: RuntimeWarning: invalid value encountered in true_divide\n",
      "  predictions[k].sum(axis=1)[:, np.newaxis])\n"
     ]
    },
    {
     "name": "stdout",
     "output_type": "stream",
     "text": [
      "10\n",
      "0.930182015756588\n"
     ]
    },
    {
     "name": "stderr",
     "output_type": "stream",
     "text": [
      "/Users/ivettesulca/anaconda3/envs/ml/lib/python3.7/site-packages/sklearn/ensemble/forest.py:460: UserWarning: Some inputs do not have OOB scores. This probably means too few trees were used to compute any reliable oob estimates.\n",
      "  warn(\"Some inputs do not have OOB scores. \"\n",
      "/Users/ivettesulca/anaconda3/envs/ml/lib/python3.7/site-packages/sklearn/ensemble/forest.py:465: RuntimeWarning: divide by zero encountered in true_divide\n",
      "  predictions[k].sum(axis=1)[:, np.newaxis])\n",
      "/Users/ivettesulca/anaconda3/envs/ml/lib/python3.7/site-packages/sklearn/ensemble/forest.py:465: RuntimeWarning: invalid value encountered in true_divide\n",
      "  predictions[k].sum(axis=1)[:, np.newaxis])\n"
     ]
    },
    {
     "name": "stdout",
     "output_type": "stream",
     "text": [
      "20\n",
      "0.9322125813449025\n",
      "50\n",
      "0.932502033071293\n",
      "100\n",
      "0.932502033071293\n",
      "200\n",
      "0.932502033071293\n",
      "400\n",
      "0.932502033071293\n",
      "800\n",
      "0.932502033071293\n"
     ]
    }
   ],
   "source": [
    "\"\"\"rfc = RandomForestClassifier(bootstrap=True, min_samples_leaf=5, n_estimators=100,\n",
    "                        random_state=42)\n",
    "rfc.fit(X_train, y_train)\"\"\"\n",
    "\n",
    "list_n_estimators = [1, 10, 20,50,100,200,400, 800]\n",
    "list_oob_scores = []\n",
    "for i in list_n_estimators:\n",
    "    clf= RandomForestClassifier(n_estimators=i,oob_score=True,random_state=42, min_samples_leaf=5)\n",
    "    clf.fit(X_train, y_train)\n",
    "    y_pred_val=clf.predict(X_valid)\n",
    "    print(i)\n",
    "    print(f1_score(y_pred_val, y_valid))\n",
    "#    list_oob_scores.append([i,clf.oob_score_])\n"
   ]
  },
  {
   "cell_type": "code",
   "execution_count": 174,
   "metadata": {},
   "outputs": [
    {
     "name": "stdout",
     "output_type": "stream",
     "text": [
      "              precision    recall  f1-score   support\n",
      "\n",
      "           0       0.00      0.00      0.00       249\n",
      "           1       0.87      1.00      0.93      1720\n",
      "\n",
      "    accuracy                           0.87      1969\n",
      "   macro avg       0.44      0.50      0.47      1969\n",
      "weighted avg       0.76      0.87      0.81      1969\n",
      "\n"
     ]
    },
    {
     "name": "stderr",
     "output_type": "stream",
     "text": [
      "/Users/ivettesulca/anaconda3/envs/ml/lib/python3.7/site-packages/sklearn/metrics/classification.py:1437: UndefinedMetricWarning: F-score is ill-defined and being set to 0.0 in labels with no predicted samples.\n",
      "  'precision', 'predicted', average, warn_for)\n",
      "/Users/ivettesulca/anaconda3/envs/ml/lib/python3.7/site-packages/sklearn/metrics/classification.py:1437: UndefinedMetricWarning: Precision and F-score are ill-defined and being set to 0.0 in labels with no predicted samples.\n",
      "  'precision', 'predicted', average, warn_for)\n"
     ]
    }
   ],
   "source": [
    "y_pred = rfc.predict(X_valid)\n",
    "list_scores = []\n",
    "accuracy_s = accuracy_score(y_valid, y_pred)\n",
    "f1_score_w= f1_score(y_valid, y_pred, average='weighted')\n",
    "f1_score_m= f1_score(y_valid, y_pred, average='macro')    \n",
    "\n",
    "list_scores.append([model_name,accuracy_s,f1_score_w,f1_score_m])\n",
    "    \n",
    "print(classification_report(y_valid, y_pred))\n"
   ]
  },
  {
   "cell_type": "code",
   "execution_count": 182,
   "metadata": {},
   "outputs": [
    {
     "data": {
      "text/plain": [
       "RandomizedSearchCV(cv=5, error_score='raise-deprecating',\n",
       "                   estimator=RandomForestClassifier(bootstrap=True,\n",
       "                                                    class_weight=None,\n",
       "                                                    criterion='gini',\n",
       "                                                    max_depth=None,\n",
       "                                                    max_features='auto',\n",
       "                                                    max_leaf_nodes=None,\n",
       "                                                    min_impurity_decrease=0.0,\n",
       "                                                    min_impurity_split=None,\n",
       "                                                    min_samples_leaf=1,\n",
       "                                                    min_samples_split=2,\n",
       "                                                    min_weight_fraction_leaf=0.0,\n",
       "                                                    n_estimators='warn',\n",
       "                                                    n_jobs=None,\n",
       "                                                    oob_score=False,\n",
       "                                                    random_state=42, verbose=0,\n",
       "                                                    warm_start=False),\n",
       "                   iid='warn', n_iter=5, n_jobs=None,\n",
       "                   param_distributions={'bootstrap': [True],\n",
       "                                        'min_samples_leaf': [50, 100, 200],\n",
       "                                        'n_estimators': [10, 50, 100, 200, 500],\n",
       "                                        'oob_score': [True]},\n",
       "                   pre_dispatch='2*n_jobs', random_state=None, refit=True,\n",
       "                   return_train_score=False, scoring='f1_weighted', verbose=0)"
      ]
     },
     "execution_count": 182,
     "metadata": {},
     "output_type": "execute_result"
    }
   ],
   "source": [
    "clf_random_cv.fit(X_train,y_train)\n"
   ]
  },
  {
   "cell_type": "code",
   "execution_count": 183,
   "metadata": {},
   "outputs": [
    {
     "data": {
      "text/plain": [
       "{'oob_score': True,\n",
       " 'n_estimators': 500,\n",
       " 'min_samples_leaf': 50,\n",
       " 'bootstrap': True}"
      ]
     },
     "execution_count": 183,
     "metadata": {},
     "output_type": "execute_result"
    }
   ],
   "source": [
    "clf_random_cv.best_params_"
   ]
  },
  {
   "cell_type": "code",
   "execution_count": 184,
   "metadata": {},
   "outputs": [
    {
     "name": "stdout",
     "output_type": "stream",
     "text": [
      "              precision    recall  f1-score   support\n",
      "\n",
      "           0       0.00      0.00      0.00       249\n",
      "           1       0.87      1.00      0.93      1720\n",
      "\n",
      "    accuracy                           0.87      1969\n",
      "   macro avg       0.44      0.50      0.47      1969\n",
      "weighted avg       0.76      0.87      0.81      1969\n",
      "\n"
     ]
    }
   ],
   "source": [
    "y_pred = clf_random_cv.predict(X_valid)\n",
    "print(classification_report(y_valid, y_pred))"
   ]
  },
  {
   "cell_type": "code",
   "execution_count": 92,
   "metadata": {},
   "outputs": [
    {
     "name": "stderr",
     "output_type": "stream",
     "text": [
      "/Users/ivettesulca/anaconda3/envs/ml/lib/python3.7/site-packages/sklearn/model_selection/_search.py:266: UserWarning: The total space of parameters 16 is smaller than n_iter=20. Running 16 iterations. For exhaustive searches, use GridSearchCV.\n",
      "  % (grid_size, self.n_iter, grid_size), UserWarning)\n"
     ]
    }
   ],
   "source": [
    "from sklearn.metrics import r2_score\n",
    "from rfpimp import permutation_importances\n",
    "\n",
    "def r2(rf, X_train, y_train):\n",
    "    return r2_score(y_train, rf.predict(X_train))\n",
    "\n",
    "perm_imp_rfpimp = permutation_importances(clf_random_cv, X_train, y_train, r2)"
   ]
  },
  {
   "cell_type": "code",
   "execution_count": 94,
   "metadata": {},
   "outputs": [
    {
     "data": {
      "text/html": [
       "<div>\n",
       "<style scoped>\n",
       "    .dataframe tbody tr th:only-of-type {\n",
       "        vertical-align: middle;\n",
       "    }\n",
       "\n",
       "    .dataframe tbody tr th {\n",
       "        vertical-align: top;\n",
       "    }\n",
       "\n",
       "    .dataframe thead th {\n",
       "        text-align: right;\n",
       "    }\n",
       "</style>\n",
       "<table border=\"1\" class=\"dataframe\">\n",
       "  <thead>\n",
       "    <tr style=\"text-align: right;\">\n",
       "      <th></th>\n",
       "      <th>Importance</th>\n",
       "    </tr>\n",
       "    <tr>\n",
       "      <th>Feature</th>\n",
       "      <th></th>\n",
       "    </tr>\n",
       "  </thead>\n",
       "  <tbody>\n",
       "    <tr>\n",
       "      <td>bon appétit</td>\n",
       "      <td>0.075049</td>\n",
       "    </tr>\n",
       "    <tr>\n",
       "      <td>desc_n_characters</td>\n",
       "      <td>0.047841</td>\n",
       "    </tr>\n",
       "    <tr>\n",
       "      <td>gourmet</td>\n",
       "      <td>0.047639</td>\n",
       "    </tr>\n",
       "    <tr>\n",
       "      <td>vegetarian</td>\n",
       "      <td>0.042582</td>\n",
       "    </tr>\n",
       "    <tr>\n",
       "      <td>directions_n_characters</td>\n",
       "      <td>0.036715</td>\n",
       "    </tr>\n",
       "    <tr>\n",
       "      <td>...</td>\n",
       "      <td>...</td>\n",
       "    </tr>\n",
       "    <tr>\n",
       "      <td>fruit juice</td>\n",
       "      <td>-0.000910</td>\n",
       "    </tr>\n",
       "    <tr>\n",
       "      <td>frozen dessert</td>\n",
       "      <td>-0.000910</td>\n",
       "    </tr>\n",
       "    <tr>\n",
       "      <td>cranberry</td>\n",
       "      <td>-0.001517</td>\n",
       "    </tr>\n",
       "    <tr>\n",
       "      <td>lemon</td>\n",
       "      <td>-0.002933</td>\n",
       "    </tr>\n",
       "    <tr>\n",
       "      <td>avocado</td>\n",
       "      <td>-0.003237</td>\n",
       "    </tr>\n",
       "  </tbody>\n",
       "</table>\n",
       "<p>586 rows × 1 columns</p>\n",
       "</div>"
      ],
      "text/plain": [
       "                         Importance\n",
       "Feature                            \n",
       "bon appétit                0.075049\n",
       "desc_n_characters          0.047841\n",
       "gourmet                    0.047639\n",
       "vegetarian                 0.042582\n",
       "directions_n_characters    0.036715\n",
       "...                             ...\n",
       "fruit juice               -0.000910\n",
       "frozen dessert            -0.000910\n",
       "cranberry                 -0.001517\n",
       "lemon                     -0.002933\n",
       "avocado                   -0.003237\n",
       "\n",
       "[586 rows x 1 columns]"
      ]
     },
     "execution_count": 94,
     "metadata": {},
     "output_type": "execute_result"
    }
   ],
   "source": [
    "perm_imp_rfpimp"
   ]
  },
  {
   "cell_type": "code",
   "execution_count": 175,
   "metadata": {},
   "outputs": [
    {
     "name": "stderr",
     "output_type": "stream",
     "text": [
      "/Users/ivettesulca/anaconda3/envs/ml/lib/python3.7/site-packages/sklearn/ensemble/forest.py:460: UserWarning: Some inputs do not have OOB scores. This probably means too few trees were used to compute any reliable oob estimates.\n",
      "  warn(\"Some inputs do not have OOB scores. \"\n",
      "/Users/ivettesulca/anaconda3/envs/ml/lib/python3.7/site-packages/sklearn/ensemble/forest.py:465: RuntimeWarning: divide by zero encountered in true_divide\n",
      "  predictions[k].sum(axis=1)[:, np.newaxis])\n",
      "/Users/ivettesulca/anaconda3/envs/ml/lib/python3.7/site-packages/sklearn/ensemble/forest.py:465: RuntimeWarning: invalid value encountered in true_divide\n",
      "  predictions[k].sum(axis=1)[:, np.newaxis])\n"
     ]
    },
    {
     "name": "stdout",
     "output_type": "stream",
     "text": [
      "1\n",
      "0.88882505027291\n"
     ]
    },
    {
     "name": "stderr",
     "output_type": "stream",
     "text": [
      "/Users/ivettesulca/anaconda3/envs/ml/lib/python3.7/site-packages/sklearn/ensemble/forest.py:460: UserWarning: Some inputs do not have OOB scores. This probably means too few trees were used to compute any reliable oob estimates.\n",
      "  warn(\"Some inputs do not have OOB scores. \"\n",
      "/Users/ivettesulca/anaconda3/envs/ml/lib/python3.7/site-packages/sklearn/ensemble/forest.py:465: RuntimeWarning: divide by zero encountered in true_divide\n",
      "  predictions[k].sum(axis=1)[:, np.newaxis])\n",
      "/Users/ivettesulca/anaconda3/envs/ml/lib/python3.7/site-packages/sklearn/ensemble/forest.py:465: RuntimeWarning: invalid value encountered in true_divide\n",
      "  predictions[k].sum(axis=1)[:, np.newaxis])\n"
     ]
    },
    {
     "name": "stdout",
     "output_type": "stream",
     "text": [
      "10\n",
      "0.930182015756588\n"
     ]
    },
    {
     "name": "stderr",
     "output_type": "stream",
     "text": [
      "/Users/ivettesulca/anaconda3/envs/ml/lib/python3.7/site-packages/sklearn/ensemble/forest.py:460: UserWarning: Some inputs do not have OOB scores. This probably means too few trees were used to compute any reliable oob estimates.\n",
      "  warn(\"Some inputs do not have OOB scores. \"\n",
      "/Users/ivettesulca/anaconda3/envs/ml/lib/python3.7/site-packages/sklearn/ensemble/forest.py:465: RuntimeWarning: divide by zero encountered in true_divide\n",
      "  predictions[k].sum(axis=1)[:, np.newaxis])\n",
      "/Users/ivettesulca/anaconda3/envs/ml/lib/python3.7/site-packages/sklearn/ensemble/forest.py:465: RuntimeWarning: invalid value encountered in true_divide\n",
      "  predictions[k].sum(axis=1)[:, np.newaxis])\n"
     ]
    },
    {
     "name": "stdout",
     "output_type": "stream",
     "text": [
      "20\n",
      "0.9322125813449025\n",
      "50\n",
      "0.932502033071293\n",
      "100\n",
      "0.932502033071293\n",
      "200\n",
      "0.932502033071293\n",
      "400\n",
      "0.932502033071293\n",
      "800\n",
      "0.932502033071293\n"
     ]
    }
   ],
   "source": [
    "# Error bars vs. number of trees (OOB vs n_estimators)\n",
    "\n",
    "list_n_estimators = [1, 10, 20,50,100,200,400, 800]\n",
    "list_oob_scores = []\n",
    "for i in list_n_estimators:\n",
    "    clf= RandomForestClassifier(n_estimators=i,oob_score=True,random_state=42, min_samples_leaf=5)\n",
    "    clf.fit(X_train, y_train)\n",
    "    y_pred_val=clf.predict(X_valid)\n",
    "    print(i)\n",
    "    print(f1_score(y_pred_val, y_valid))\n",
    "#    list_oob_scores.append([i,clf.oob_score_])\n",
    "\n"
   ]
  },
  {
   "cell_type": "code",
   "execution_count": 176,
   "metadata": {},
   "outputs": [
    {
     "name": "stdout",
     "output_type": "stream",
     "text": [
      "[[20, 0.7085786073223259], [50, 0.7383345297918162], [100, 0.7499641062455132], [200, 0.7563173007896626], [400, 0.758829863603733], [800, 0.7619885139985643]]\n"
     ]
    }
   ],
   "source": [
    "print(list_oob_scores)"
   ]
  },
  {
   "cell_type": "code",
   "execution_count": 185,
   "metadata": {},
   "outputs": [
    {
     "data": {
      "text/plain": [
       "RandomForestClassifier(bootstrap=True, class_weight=None, criterion='gini',\n",
       "                       max_depth=None, max_features='auto', max_leaf_nodes=None,\n",
       "                       min_impurity_decrease=0.0, min_impurity_split=None,\n",
       "                       min_samples_leaf=10, min_samples_split=2,\n",
       "                       min_weight_fraction_leaf=0.0, n_estimators=100,\n",
       "                       n_jobs=None, oob_score=False, random_state=42, verbose=0,\n",
       "                       warm_start=False)"
      ]
     },
     "execution_count": 185,
     "metadata": {},
     "output_type": "execute_result"
    }
   ],
   "source": [
    "rfc = RandomForestClassifier(bootstrap=True, min_samples_leaf=10, n_estimators=100,\n",
    "                        random_state=42)\n",
    "rfc.fit(X_train, y_train)"
   ]
  },
  {
   "cell_type": "code",
   "execution_count": 186,
   "metadata": {},
   "outputs": [
    {
     "name": "stdout",
     "output_type": "stream",
     "text": [
      "              precision    recall  f1-score   support\n",
      "\n",
      "           0       0.00      0.00      0.00       292\n",
      "           1       0.87      1.00      0.93      2024\n",
      "\n",
      "    accuracy                           0.87      2316\n",
      "   macro avg       0.44      0.50      0.47      2316\n",
      "weighted avg       0.76      0.87      0.82      2316\n",
      "\n"
     ]
    },
    {
     "name": "stderr",
     "output_type": "stream",
     "text": [
      "/Users/ivettesulca/anaconda3/envs/ml/lib/python3.7/site-packages/sklearn/metrics/classification.py:1437: UndefinedMetricWarning: Precision and F-score are ill-defined and being set to 0.0 in labels with no predicted samples.\n",
      "  'precision', 'predicted', average, warn_for)\n"
     ]
    }
   ],
   "source": [
    "y_pred = rfc.predict(X_test)\n",
    "print(classification_report(y_test, y_pred))"
   ]
  },
  {
   "cell_type": "markdown",
   "metadata": {},
   "source": [
    "### b) Random Search for Support Vector Classifier"
   ]
  },
  {
   "cell_type": "code",
   "execution_count": 88,
   "metadata": {},
   "outputs": [],
   "source": [
    "# Defining estimators and search space\n",
    "cv=3\n",
    "n_iter=1\n",
    "#C = [10,100,1000,10000]\n",
    "C = [1]\n",
    "kernel = ['rbf','poly','linear' ]\n",
    "#kernel = ['linear','rbf','poly']\n",
    "#gamma = [0.1,0.01,0.001,1]\n",
    "#gamma=[0.001]\n",
    "hyperparameters = dict(C=C,\n",
    "                       kernel=kernel#,                           \n",
    "                       #gamma=gamma\n",
    "                       )\n",
    "\n",
    "svc_random_cv = RandomizedSearchCV(SVC(random_state=42), \n",
    "                          hyperparameters, \n",
    "                          cv=cv, \n",
    "                          n_iter=n_iter,       \n",
    "                          scoring='f1_weighted')\n",
    "\n"
   ]
  },
  {
   "cell_type": "code",
   "execution_count": 89,
   "metadata": {},
   "outputs": [
    {
     "name": "stderr",
     "output_type": "stream",
     "text": [
      "/Users/ivettesulca/anaconda3/envs/ml/lib/python3.7/site-packages/sklearn/svm/base.py:193: FutureWarning: The default value of gamma will change from 'auto' to 'scale' in version 0.22 to account better for unscaled features. Set gamma explicitly to 'auto' or 'scale' to avoid this warning.\n",
      "  \"avoid this warning.\", FutureWarning)\n"
     ]
    },
    {
     "data": {
      "text/plain": [
       "SVC(C=1.0, cache_size=200, class_weight=None, coef0=0.0,\n",
       "    decision_function_shape='ovr', degree=3, gamma='auto_deprecated',\n",
       "    kernel='poly', max_iter=-1, probability=False, random_state=42,\n",
       "    shrinking=True, tol=0.001, verbose=False)"
      ]
     },
     "execution_count": 89,
     "metadata": {},
     "output_type": "execute_result"
    }
   ],
   "source": [
    "X_std = StandardScaler().fit_transform(X_train)\n",
    "svc_random_cv=SVC(random_state=42, kernel='poly')\n",
    "svc_random_cv.fit(X_std,y_train)"
   ]
  },
  {
   "cell_type": "code",
   "execution_count": 180,
   "metadata": {},
   "outputs": [
    {
     "data": {
      "text/plain": [
       "{'C': 1.0,\n",
       " 'cache_size': 200,\n",
       " 'class_weight': None,\n",
       " 'coef0': 0.0,\n",
       " 'decision_function_shape': 'ovr',\n",
       " 'degree': 3,\n",
       " 'gamma': 'auto_deprecated',\n",
       " 'kernel': 'poly',\n",
       " 'max_iter': -1,\n",
       " 'probability': False,\n",
       " 'random_state': 42,\n",
       " 'shrinking': True,\n",
       " 'tol': 0.001,\n",
       " 'verbose': False}"
      ]
     },
     "execution_count": 180,
     "metadata": {},
     "output_type": "execute_result"
    }
   ],
   "source": [
    "# Best hyperparameters\n",
    "svc_random_cv.get_params()"
   ]
  },
  {
   "cell_type": "code",
   "execution_count": 177,
   "metadata": {},
   "outputs": [
    {
     "name": "stdout",
     "output_type": "stream",
     "text": [
      "              precision    recall  f1-score   support\n",
      "\n",
      "           1       0.99      0.87      0.93      5572\n",
      "           2       0.99      0.87      0.92      5572\n",
      "           3       0.50      0.99      0.67      5572\n",
      "           4       0.99      0.55      0.71      5572\n",
      "           5       0.98      0.71      0.83      5572\n",
      "\n",
      "    accuracy                           0.80     27860\n",
      "   macro avg       0.89      0.80      0.81     27860\n",
      "weighted avg       0.89      0.80      0.81     27860\n",
      "\n"
     ]
    }
   ],
   "source": [
    "#y_pred = svc_random_cv.predict(X_train)\n",
    "y_pred = svc_random_cv.predict(X_std)\n",
    "print(classification_report(y_train, y_pred))"
   ]
  },
  {
   "cell_type": "code",
   "execution_count": 178,
   "metadata": {},
   "outputs": [
    {
     "name": "stdout",
     "output_type": "stream",
     "text": [
      "              precision    recall  f1-score   support\n",
      "\n",
      "           1       0.02      0.02      0.02        44\n",
      "           2       0.05      0.03      0.04        89\n",
      "           3       0.39      0.84      0.53      1152\n",
      "           4       0.50      0.11      0.18      1394\n",
      "           5       0.28      0.16      0.20       409\n",
      "\n",
      "    accuracy                           0.38      3088\n",
      "   macro avg       0.25      0.23      0.20      3088\n",
      "weighted avg       0.41      0.38      0.31      3088\n",
      "\n"
     ]
    }
   ],
   "source": [
    "X_std2 = StandardScaler().fit_transform(X_valid)\n",
    "y_pred = svc_random_cv.predict(X_std2)\n",
    "print(classification_report(y_valid, y_pred))"
   ]
  },
  {
   "cell_type": "markdown",
   "metadata": {},
   "source": [
    "### c) Random Search for Logistic Regression"
   ]
  },
  {
   "cell_type": "code",
   "execution_count": 31,
   "metadata": {},
   "outputs": [
    {
     "name": "stderr",
     "output_type": "stream",
     "text": [
      "/Users/ivettesulca/anaconda3/envs/ml/lib/python3.7/site-packages/sklearn/linear_model/logistic.py:469: FutureWarning: Default multi_class will be changed to 'auto' in 0.22. Specify the multi_class option to silence this warning.\n",
      "  \"this warning.\", FutureWarning)\n"
     ]
    },
    {
     "data": {
      "text/plain": [
       "LogisticRegression(C=0.1, class_weight=None, dual=False, fit_intercept=True,\n",
       "                   intercept_scaling=1, l1_ratio=None, max_iter=100,\n",
       "                   multi_class='warn', n_jobs=None, penalty='l1',\n",
       "                   random_state=None, solver='liblinear', tol=0.0001, verbose=0,\n",
       "                   warm_start=False)"
      ]
     },
     "execution_count": 31,
     "metadata": {},
     "output_type": "execute_result"
    }
   ],
   "source": [
    "\n",
    "model = LogisticRegression(penalty='l1', C=0.1, solver='liblinear')\n",
    "\n",
    "X_std = StandardScaler().fit_transform(X_train)\n",
    "model.fit(X_std, y_train)"
   ]
  },
  {
   "cell_type": "code",
   "execution_count": 32,
   "metadata": {},
   "outputs": [
    {
     "name": "stdout",
     "output_type": "stream",
     "text": [
      "              precision    recall  f1-score   support\n",
      "\n",
      "           1       0.73      0.92      0.81      5572\n",
      "           2       0.63      0.75      0.68      5572\n",
      "           3       0.49      0.37      0.43      5572\n",
      "           4       0.49      0.36      0.41      5572\n",
      "           5       0.60      0.63      0.62      5572\n",
      "\n",
      "    accuracy                           0.61     27860\n",
      "   macro avg       0.59      0.61      0.59     27860\n",
      "weighted avg       0.59      0.61      0.59     27860\n",
      "\n"
     ]
    }
   ],
   "source": [
    "y_pred = model.predict(X_std)\n",
    "print(classification_report(y_train, y_pred))"
   ]
  },
  {
   "cell_type": "code",
   "execution_count": 33,
   "metadata": {},
   "outputs": [
    {
     "name": "stdout",
     "output_type": "stream",
     "text": [
      "              precision    recall  f1-score   support\n",
      "\n",
      "           1       0.02      0.32      0.04        44\n",
      "           2       0.04      0.30      0.08        89\n",
      "           3       0.44      0.24      0.31      1152\n",
      "           4       0.53      0.21      0.31      1394\n",
      "           5       0.23      0.39      0.29       409\n",
      "\n",
      "    accuracy                           0.25      3088\n",
      "   macro avg       0.25      0.29      0.20      3088\n",
      "weighted avg       0.44      0.25      0.29      3088\n",
      "\n"
     ]
    }
   ],
   "source": [
    "X_std2 = StandardScaler().fit_transform(X_valid)\n",
    "y_pred = model.predict(X_std2)\n",
    "print(classification_report(y_valid, y_pred))"
   ]
  },
  {
   "cell_type": "code",
   "execution_count": null,
   "metadata": {},
   "outputs": [],
   "source": []
  },
  {
   "cell_type": "code",
   "execution_count": null,
   "metadata": {},
   "outputs": [],
   "source": []
  },
  {
   "cell_type": "markdown",
   "metadata": {},
   "source": [
    "### Only SVC"
   ]
  },
  {
   "cell_type": "code",
   "execution_count": null,
   "metadata": {},
   "outputs": [],
   "source": [
    "# clf = SVC(random_state=42).fit(X_train, y_train)\n",
    "\n",
    "# y_pred = clf.predict(X_train)\n",
    "# cm = confusion_matrix(y_train, y_pred)\n",
    "# print(cm)\n",
    "# print(classification_report(y_train, y_pred))"
   ]
  },
  {
   "cell_type": "code",
   "execution_count": null,
   "metadata": {},
   "outputs": [],
   "source": [
    "# y_pred = clf.predict(X_test)\n",
    "# cm = confusion_matrix(y_test, y_pred)\n",
    "# print(cm)\n",
    "# print(classification_report(y_test, y_pred))"
   ]
  },
  {
   "cell_type": "markdown",
   "metadata": {},
   "source": [
    "Evaluation Metric\n",
    "----"
   ]
  },
  {
   "cell_type": "code",
   "execution_count": null,
   "metadata": {},
   "outputs": [],
   "source": [
    "# y_pred = clf.predict(X_test)\n",
    "# cm = confusion_matrix(y_test, y_pred)\n",
    "# print(cm)\n",
    "# print(classification_report(y_test, y_pred))"
   ]
  },
  {
   "cell_type": "code",
   "execution_count": null,
   "metadata": {},
   "outputs": [],
   "source": [
    "# print(\"Unweighted F1 score overall: \", round(f1_score(y_test, y_pred, average='macro'), 3))"
   ]
  },
  {
   "cell_type": "code",
   "execution_count": null,
   "metadata": {},
   "outputs": [],
   "source": []
  }
 ],
 "metadata": {
  "kernelspec": {
   "display_name": "Python 3",
   "language": "python",
   "name": "python3"
  },
  "language_info": {
   "codemirror_mode": {
    "name": "ipython",
    "version": 3
   },
   "file_extension": ".py",
   "mimetype": "text/x-python",
   "name": "python",
   "nbconvert_exporter": "python",
   "pygments_lexer": "ipython3",
   "version": "3.7.4"
  },
  "toc": {
   "base_numbering": 1,
   "nav_menu": {},
   "number_sections": false,
   "sideBar": false,
   "skip_h1_title": false,
   "title_cell": "Table of Contents",
   "title_sidebar": "Contents",
   "toc_cell": true,
   "toc_position": {},
   "toc_section_display": true,
   "toc_window_display": false
  }
 },
 "nbformat": 4,
 "nbformat_minor": 2
}
